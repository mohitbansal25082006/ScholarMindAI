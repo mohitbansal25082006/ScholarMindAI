{
 "cells": [
  {
   "cell_type": "code",
   "execution_count": 1,
   "id": "1f3aa2ad",
   "metadata": {},
   "outputs": [],
   "source": [
    "import sys, shutil\n",
    "sys.path.append(\"..\")\n",
    "from src.preprocess import process_file\n",
    "from pathlib import Path"
   ]
  },
  {
   "cell_type": "code",
   "execution_count": 3,
   "id": "5319059d",
   "metadata": {},
   "outputs": [
    {
     "name": "stdout",
     "output_type": "stream",
     "text": [
      "✅ demo_paper.pdf created\n"
     ]
    }
   ],
   "source": [
    "# Demo: create a tiny dummy PDF for testing\n",
    "from reportlab.pdfgen import canvas\n",
    "dummy_path = Path(\"data/uploads/demo_paper.pdf\")\n",
    "c = canvas.Canvas(str(dummy_path))\n",
    "c.drawString(100,750,\"Title: AI in Biology\")\n",
    "c.drawString(100,730,\"Abstract: This paper explores...\")\n",
    "for i in range(5):\n",
    "    c.drawString(100,700-i*20,f\"This is page {i+1} with some content.\")\n",
    "c.save()\n",
    "print(\"✅ demo_paper.pdf created\")"
   ]
  },
  {
   "cell_type": "code",
   "execution_count": 4,
   "id": "71ce725f",
   "metadata": {},
   "outputs": [
    {
     "name": "stdout",
     "output_type": "stream",
     "text": [
      "Processing demo_paper.pdf ...\n",
      "→ 1 chunks created\n",
      "Total chunks ready for embedding: 1\n"
     ]
    }
   ],
   "source": [
    "upload_dir = Path(\"data/uploads\")\n",
    "processed_dir = Path(\"data/processed\")\n",
    "processed_dir.mkdir(exist_ok=True)\n",
    "\n",
    "all_chunks=[]\n",
    "for file in upload_dir.glob(\"*\"):\n",
    "    if file.suffix.lower() in [\".pdf\",\".txt\"]:\n",
    "        doc_id = file.stem\n",
    "        print(f\"Processing {file.name} ...\")\n",
    "        chunks = process_file(file, doc_id)\n",
    "        all_chunks.extend(chunks)\n",
    "        print(f\"→ {len(chunks)} chunks created\")\n",
    "\n",
    "print(f\"Total chunks ready for embedding: {len(all_chunks)}\")"
   ]
  },
  {
   "cell_type": "code",
   "execution_count": 5,
   "id": "fc5eb522",
   "metadata": {},
   "outputs": [
    {
     "name": "stdout",
     "output_type": "stream",
     "text": [
      "{\n",
      "  \"doc_id\": \"demo_paper\",\n",
      "  \"page\": 1,\n",
      "  \"text\": \"Title: AI in Biology Abstract: This paper explores... This is page 1 with some content. This is page 2 with some content. This is page 3 with some content. This is page 4 with some content. This is page 5 with some content.\"\n",
      "}\n"
     ]
    }
   ],
   "source": [
    "import json, random\n",
    "chunk = random.choice(all_chunks)\n",
    "print(json.dumps(chunk, indent=2, ensure_ascii=False))"
   ]
  },
  {
   "cell_type": "code",
   "execution_count": null,
   "id": "9a268e82",
   "metadata": {},
   "outputs": [],
   "source": []
  }
 ],
 "metadata": {
  "kernelspec": {
   "display_name": "scholarmind",
   "language": "python",
   "name": "python3"
  },
  "language_info": {
   "codemirror_mode": {
    "name": "ipython",
    "version": 3
   },
   "file_extension": ".py",
   "mimetype": "text/x-python",
   "name": "python",
   "nbconvert_exporter": "python",
   "pygments_lexer": "ipython3",
   "version": "3.10.18"
  }
 },
 "nbformat": 4,
 "nbformat_minor": 5
}
