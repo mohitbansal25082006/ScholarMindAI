{
 "cells": [
  {
   "cell_type": "code",
   "execution_count": 1,
   "id": "cc19da9c",
   "metadata": {},
   "outputs": [
    {
     "name": "stderr",
     "output_type": "stream",
     "text": [
      "d:\\anaconda\\envs\\scholarmind\\lib\\site-packages\\tqdm\\auto.py:21: TqdmWarning: IProgress not found. Please update jupyter and ipywidgets. See https://ipywidgets.readthedocs.io/en/stable/user_install.html\n",
      "  from .autonotebook import tqdm as notebook_tqdm\n",
      "Failed to send telemetry event ClientStartEvent: capture() takes 1 positional argument but 3 were given\n",
      "Failed to send telemetry event ClientCreateCollectionEvent: capture() takes 1 positional argument but 3 were given\n"
     ]
    }
   ],
   "source": [
    "import sys, json\n",
    "sys.path.append(\"..\")\n",
    "from src.embeddings import embed_and_store, load_chunks"
   ]
  },
  {
   "cell_type": "code",
   "execution_count": 2,
   "id": "3edca982",
   "metadata": {},
   "outputs": [
    {
     "name": "stdout",
     "output_type": "stream",
     "text": [
      "Loaded 1 chunks\n"
     ]
    },
    {
     "name": "stderr",
     "output_type": "stream",
     "text": [
      "Batches: 100%|██████████| 1/1 [00:00<00:00,  2.85it/s]"
     ]
    },
    {
     "name": "stdout",
     "output_type": "stream",
     "text": [
      "✅ Stored 1 vectors in ChromaDB\n"
     ]
    },
    {
     "name": "stderr",
     "output_type": "stream",
     "text": [
      "\n"
     ]
    }
   ],
   "source": [
    "chunks = load_chunks()\n",
    "print(f\"Loaded {len(chunks)} chunks\")\n",
    "embed_and_store(chunks)"
   ]
  },
  {
   "cell_type": "code",
   "execution_count": 3,
   "id": "710b8cca",
   "metadata": {},
   "outputs": [
    {
     "name": "stderr",
     "output_type": "stream",
     "text": [
      "Failed to send telemetry event ClientStartEvent: capture() takes 1 positional argument but 3 were given\n",
      "Number of requested results 2 is greater than number of elements in index 1, updating n_results = 1\n",
      "Failed to send telemetry event CollectionQueryEvent: capture() takes 1 positional argument but 3 were given\n"
     ]
    },
    {
     "name": "stdout",
     "output_type": "stream",
     "text": [
      "📄 demo_paper p.1 | Title: AI in Biology Abstract: This paper explores... This is page 1 with some content. This is page 2 with some content...\n"
     ]
    }
   ],
   "source": [
    "from sentence_transformers import SentenceTransformer\n",
    "import chromadb\n",
    "\n",
    "encoder = SentenceTransformer(\"all-MiniLM-L6-v2\")\n",
    "client = chromadb.PersistentClient(path=\"data/embeddings\")\n",
    "coll = client.get_collection(\"research_docs\")\n",
    "\n",
    "query = \"AI in biology\"\n",
    "q_emb = encoder.encode([query]).tolist()\n",
    "\n",
    "hits = coll.query(query_embeddings=q_emb, n_results=2, include=[\"metadatas\",\"documents\"])\n",
    "for meta, doc in zip(hits[\"metadatas\"][0], hits[\"documents\"][0]):\n",
    "    print(\"📄\", meta[\"citation\"], \"|\", doc[:120]+\"...\")"
   ]
  },
  {
   "cell_type": "code",
   "execution_count": null,
   "id": "936be725",
   "metadata": {},
   "outputs": [],
   "source": []
  }
 ],
 "metadata": {
  "kernelspec": {
   "display_name": "scholarmind",
   "language": "python",
   "name": "python3"
  },
  "language_info": {
   "codemirror_mode": {
    "name": "ipython",
    "version": 3
   },
   "file_extension": ".py",
   "mimetype": "text/x-python",
   "name": "python",
   "nbconvert_exporter": "python",
   "pygments_lexer": "ipython3",
   "version": "3.10.18"
  }
 },
 "nbformat": 4,
 "nbformat_minor": 5
}
