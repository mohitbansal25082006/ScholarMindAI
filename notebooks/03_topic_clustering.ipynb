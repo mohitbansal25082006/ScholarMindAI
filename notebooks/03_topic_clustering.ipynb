{
 "cells": [
  {
   "cell_type": "code",
   "execution_count": 1,
   "id": "b274f5ed",
   "metadata": {},
   "outputs": [
    {
     "name": "stderr",
     "output_type": "stream",
     "text": [
      "d:\\anaconda\\envs\\scholarmind\\lib\\site-packages\\tqdm\\auto.py:21: TqdmWarning: IProgress not found. Please update jupyter and ipywidgets. See https://ipywidgets.readthedocs.io/en/stable/user_install.html\n",
      "  from .autonotebook import tqdm as notebook_tqdm\n"
     ]
    }
   ],
   "source": [
    "import sys, json, os\n",
    "sys.path.append(\"..\")\n",
    "from src.compare import load_summaries, compare_docs, find_gaps_only\n",
    "from pathlib import Path"
   ]
  },
  {
   "cell_type": "code",
   "execution_count": 2,
   "id": "ff750671",
   "metadata": {},
   "outputs": [
    {
     "name": "stdout",
     "output_type": "stream",
     "text": [
      "Loaded summaries for: ['demo_paper']\n",
      "✅ Reports saved to data/processed/\n"
     ]
    }
   ],
   "source": [
    "summaries = load_summaries()\n",
    "print(\"Loaded summaries for:\", list(summaries.keys()))\n",
    "\n",
    "compare_md = compare_docs(summaries)\n",
    "gaps_md    = find_gaps_only(summaries)\n",
    "\n",
    "Path(\"data/processed/compare_report.md\").write_text(compare_md, encoding=\"utf-8\")\n",
    "Path(\"data/processed/gaps_report.md\").write_text(gaps_md, encoding=\"utf-8\")\n",
    "print(\"✅ Reports saved to data/processed/\")"
   ]
  },
  {
   "cell_type": "code",
   "execution_count": 3,
   "id": "41d86363",
   "metadata": {},
   "outputs": [
    {
     "name": "stdout",
     "output_type": "stream",
     "text": [
      "--- compare_report.md ---\n",
      "The provided text only contains a single abstract summary, which is poorly formatted and repetitive.  It lacks sufficient detail to populate a comprehensive table or identify contradictions.  The abstract mentions AI in Biology but doesn't specify the methodology, key findings, or dataset.\n",
      "\n",
      "\n",
      "**1. Markdown Table:**\n",
      "\n",
      "| Document     | Methodology           | Key Finding           | Dataset          |\n",
      "|--------------|-----------------------|-----------------------|-------------------|\n",
      "| demo_paper   | Not specified         | Not specified         | Not specified     |\n",
      "\n",
      "\n",
      "**2. Contradictions/Conflicting Results:**\n",
      "\n",
      "None can be identified from the provided, insufficient abstract.\n",
      "\n",
      "\n",
      "**3. Research Gaps:**\n",
      "\n",
      "* **Specific AI techniques:** The abstract lacks detail on the specific AI algorithms or mode...\n"
     ]
    }
   ],
   "source": [
    "print(\"--- compare_report.md ---\")\n",
    "print(compare_md[:800] + \"...\")"
   ]
  }
 ],
 "metadata": {
  "kernelspec": {
   "display_name": "scholarmind",
   "language": "python",
   "name": "python3"
  },
  "language_info": {
   "codemirror_mode": {
    "name": "ipython",
    "version": 3
   },
   "file_extension": ".py",
   "mimetype": "text/x-python",
   "name": "python",
   "nbconvert_exporter": "python",
   "pygments_lexer": "ipython3",
   "version": "3.10.18"
  }
 },
 "nbformat": 4,
 "nbformat_minor": 5
}
